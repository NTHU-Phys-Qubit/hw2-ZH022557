{
 "cells": [
  {
   "cell_type": "code",
   "execution_count": 1,
   "metadata": {},
   "outputs": [],
   "source": [
    "import numpy as np\n",
    "import matplotlib.pyplot as plt"
   ]
  },
  {
   "cell_type": "markdown",
   "metadata": {},
   "source": [
    "# 1D Ising model + Transfer matrix\n",
    "\n",
    "* Construct the transfer matrix at temperature $T$ with external field $B$\n",
    "* Find the eivenvalues of the transfer matrix and compare to the exact results.\n",
    "* Evaluate the partition function $Z$ at different system size $N$ and $T$, $B$. Compare to the exact results.\n",
    "* For a fixed $N$, $T$, $B$, evaluate $\\langle S_0 S_j\\rangle$ where $j=0,1,\\cdots N$. \n",
    "* Plot $\\langle S_0 S_j\\rangle$ up to $j=N/2$ and show that it decays exponentially.\n",
    "  * Please try several $N$, $T$, $B$. What is the largest $N$ you can go? What is the lowest $T$ you can go?"
   ]
  },
  {
   "cell_type": "code",
   "execution_count": 27,
   "metadata": {},
   "outputs": [
    {
     "name": "stdout",
     "output_type": "stream",
     "text": [
      "[[2.71828183 0.60653066]\n",
      " [0.60653066 1.        ]]\n"
     ]
    }
   ],
   "source": [
    "# 1. Construct the transfer matrix at temperature T with external field B .\n",
    "kb = 1\n",
    "J  = 1\n",
    "def bata(T):\n",
    "    return 1/(T*kb)\n",
    "def transfermatrix(T,B):\n",
    "    b=bata(T)\n",
    "    return np.array([[np.exp(b*J+b*B),np.exp(-b*J)   ],\n",
    "                     [np.exp(-b*J)   ,np.exp(b*J-b*B)]])\n"
   ]
  },
  {
   "cell_type": "code",
   "execution_count": 151,
   "metadata": {},
   "outputs": [
    {
     "name": "stdout",
     "output_type": "stream",
     "text": [
      "from transfer matrix [0.80747436 2.91080747]\n",
      "from  exact  results [0.80747436 2.91080747]\n"
     ]
    }
   ],
   "source": [
    "# 2. Find the eigenvalues of the transfer matrix and compare to the exact results.\n",
    "def eigenvalues(T,B):\n",
    "    return np.linalg.eigvalsh(transfermatrix(T,B))\n",
    "def exact_results(T,B):\n",
    "    b       = bata(T)\n",
    "    lamda_p = np.exp(b*J)*(np.cosh(b*B)+(np.sinh(b*B)**2+np.exp(-4*b*J))**0.5)\n",
    "    lamda_m = np.exp(b*J)*(np.cosh(b*B)-(np.sinh(b*B)**2+np.exp(-4*b*J))**0.5)\n",
    "    return np.array([round(lamda_m,8),round(lamda_p,8)])\n",
    "T,B= 2, 1\n",
    "print (\"from transfer matrix\",  eigenvalues(T,B))\n",
    "print ('from  exact  results',exact_results(T,B))"
   ]
  },
  {
   "cell_type": "code",
   "execution_count": 90,
   "metadata": {},
   "outputs": [
    {
     "name": "stdout",
     "output_type": "stream",
     "text": [
      "2.5196958965332103e+46\n",
      "2.5196958965331977e+46\n",
      "2.5196958965331977e+46\n"
     ]
    }
   ],
   "source": [
    "# 3. Evaluate the partition function Z at different system size N and T, B. \n",
    "#    Compare to the exact results.\n",
    "impurity_matrix = np.array([[1, 0],\n",
    "                            [0,-1]]) \n",
    "def Z(N,T,B):\n",
    "    x = transfermatrix(T,B)\n",
    "    y = np.copy(x)\n",
    "    for i in np.arange(N-1):\n",
    "        x = np.dot(x,y)\n",
    "    return np.trace(x)\n",
    "\n",
    "N,T,B=100,2,1\n",
    "\n",
    "print (Z(N,T,B))\n",
    "print (sum(eigenvalues(T,B)**N))\n",
    "print (eigenvalues(T,B)[1]**N)"
   ]
  },
  {
   "cell_type": "code",
   "execution_count": 125,
   "metadata": {},
   "outputs": [
    {
     "name": "stdout",
     "output_type": "stream",
     "text": [
      "0.9676247526816236\n"
     ]
    }
   ],
   "source": [
    "# 4. For a fixed N, T, B, evaluate [So,Sj], where j=0,1,.... N.\n",
    "N ,T ,B = 2, 5 ,10\n",
    "i ,j    = 0,1 \n",
    "def S(i,j):\n",
    "    a =np.eye(2)\n",
    "    for k in np.arange(N):\n",
    "        if k == i:\n",
    "            a = np.dot(a,impurity_matrix)            \n",
    "        if k == j:\n",
    "            a = np.dot(a,impurity_matrix)\n",
    "        a = np.dot(a,transfermatrix(T,B))\n",
    "    a = np.trace(a)/Z(N,T,B)\n",
    "    return a\n",
    "print (S(i,j))"
   ]
  },
  {
   "cell_type": "code",
   "execution_count": 164,
   "metadata": {},
   "outputs": [
    {
     "data": {
      "text/plain": [
       "[<matplotlib.lines.Line2D at 0xc5a7d00>]"
      ]
     },
     "execution_count": 164,
     "metadata": {},
     "output_type": "execute_result"
    },
    {
     "data": {
      "image/png": "[encoded data removed]",
      "text/plain": [
       "<Figure size 432x288 with 1 Axes>"
      ]
     },
     "metadata": {
      "needs_background": "light"
     },
     "output_type": "display_data"
    }
   ],
   "source": [
    "#5.(a) Plot [So,Sj] up to j = N/2 and show that it decays exponentially.\n",
    "#      Please try several $N$, $T$, $B$. \n",
    "N ,T ,B ,i  = 32 ,1.  ,0., 0\n",
    "s = [S(i,j) for j in np.arange(0,N)]\n",
    "s.append(s[0])\n",
    "plt.plot(s[0:int(N/2)],'*')"
   ]
  },
  {
   "cell_type": "code",
   "execution_count": 185,
   "metadata": {},
   "outputs": [
    {
     "data": {
      "image/png": "[encoded data removed]",
      "text/plain": [
       "<Figure size 216x216 with 1 Axes>"
      ]
     },
     "metadata": {
      "needs_background": "light"
     },
     "output_type": "display_data"
    },
    {
     "data": {
      "image/png": "[encoded data removed]",
      "text/plain": [
       "<Figure size 216x216 with 1 Axes>"
      ]
     },
     "metadata": {
      "needs_background": "light"
     },
     "output_type": "display_data"
    },
    {
     "data": {
      "image/png": "[encoded data removed]",
      "text/plain": [
       "<Figure size 216x216 with 1 Axes>"
      ]
     },
     "metadata": {
      "needs_background": "light"
     },
     "output_type": "display_data"
    },
    {
     "data": {
      "image/png": "[encoded data removed]",
      "text/plain": [
       "<Figure size 216x216 with 1 Axes>"
      ]
     },
     "metadata": {
      "needs_background": "light"
     },
     "output_type": "display_data"
    },
    {
     "data": {
      "image/png": "[encoded data removed]",
      "text/plain": [
       "<Figure size 216x216 with 1 Axes>"
      ]
     },
     "metadata": {
      "needs_background": "light"
     },
     "output_type": "display_data"
    }
   ],
   "source": [
    "#5.(b)    What is the largest $N$ you can go? What is the lowest $T$ you can go?\n",
    "N ,T ,B ,i  = 32 ,1.  ,0., 0\n",
    "s = [S(i,j) for j in np.arange(0,N)]\n",
    "s.append(s[0])\n",
    "for k in np.arange(0.1,1,0.2):\n",
    "    T = k\n",
    "    plt.figure(figsize=(3,3))\n",
    "    plt.title(\"%2f\" %(k))\n",
    "    plt.plot([S(i,j) for j in np.arange(0,N/2)],'*')"
   ]
  },
  {
   "cell_type": "code",
   "execution_count": 182,
   "metadata": {},
   "outputs": [
    {
     "name": "stdout",
     "output_type": "stream",
     "text": [
      "5\n"
     ]
    }
   ],
   "source": [
    "print (\"%i\" %5)"
   ]
  },
  {
   "cell_type": "code",
   "execution_count": null,
   "metadata": {},
   "outputs": [],
   "source": []
  },
  {
   "cell_type": "code",
   "execution_count": null,
   "metadata": {},
   "outputs": [],
   "source": []
  },
  {
   "cell_type": "code",
   "execution_count": null,
   "metadata": {},
   "outputs": [],
   "source": []
  }
 ],
 "metadata": {
  "kernelspec": {
   "display_name": "Python 3",
   "language": "python",
   "name": "python3"
  },
  "language_info": {
   "codemirror_mode": {
    "name": "ipython",
    "version": 3
   },
   "file_extension": ".py",
   "mimetype": "text/x-python",
   "name": "python",
   "nbconvert_exporter": "python",
   "pygments_lexer": "ipython3",
   "version": "3.8.1"
  }
 },
 "nbformat": 4,
 "nbformat_minor": 4
}
